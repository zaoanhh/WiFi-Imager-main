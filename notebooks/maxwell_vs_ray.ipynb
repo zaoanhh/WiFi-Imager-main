{
 "cells": [
  {
   "cell_type": "code",
   "execution_count": 1,
   "metadata": {},
   "outputs": [],
   "source": [
    "using DrWatson\n",
    "@quickactivate \"WiFi-Imager\"\n",
    "includet(srcdir(\"funcs.jl\"))\n",
    "using CairoMakie"
   ]
  },
  {
   "cell_type": "code",
   "execution_count": 2,
   "metadata": {},
   "outputs": [],
   "source": [
    "includet(srcdir(\"makie_theme.jl\"))"
   ]
  },
  {
   "cell_type": "code",
   "execution_count": 4,
   "metadata": {},
   "outputs": [
    {
     "data": {
      "text/plain": [
       "(2, 1)"
      ]
     },
     "metadata": {},
     "output_type": "display_data"
    }
   ],
   "source": [
    "doi_size = 1.0\n",
    "grid_number = 50\n",
    "tx_xs = [-2.0]\n",
    "tx_ys = [0.0]\n",
    "cen_freq = 2.462e9\n",
    "air_permittivity = 1.0 + 0.0im\n",
    "Ni = length(tx_xs)\n",
    "\n",
    "rx_xs = [0.2]\n",
    "rx_ys = [0.0]\n",
    "Rx_pos = [rx_xs'; rx_ys']\n",
    "Tx_pos = [tx_xs'; tx_ys']\n",
    "size(Rx_pos)"
   ]
  },
  {
   "cell_type": "code",
   "execution_count": null,
   "metadata": {},
   "outputs": [],
   "source": [
    "parameters = ConstantParameter(freq = cen_freq,\n",
    "doi_size_x = doi_size,\n",
    "doi_size_y = doi_size,\n",
    "grid_number_x = grid_number,\n",
    "grid_number_y = grid_number,\n",
    "txs_pos = Tx_pos,\n",
    "rxs_pos = Rx_pos)"
   ]
  }
 ],
 "metadata": {
  "kernelspec": {
   "display_name": "Julia 1.10.4",
   "language": "julia",
   "name": "julia-1.10"
  },
  "language_info": {
   "file_extension": ".jl",
   "mimetype": "application/julia",
   "name": "julia",
   "version": "1.10.4"
  }
 },
 "nbformat": 4,
 "nbformat_minor": 2
}
